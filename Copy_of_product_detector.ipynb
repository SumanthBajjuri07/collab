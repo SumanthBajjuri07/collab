{
  "nbformat": 4,
  "nbformat_minor": 0,
  "metadata": {
    "accelerator": "GPU",
    "colab": {
      "name": "Copy of product_detector.ipynb",
      "provenance": [],
      "collapsed_sections": []
    },
    "kernelspec": {
      "display_name": "Python 3",
      "name": "python3"
    },
    "language_info": {
      "name": "python"
    }
  },
  "cells": [
    {
      "cell_type": "code",
      "metadata": {
        "id": "BYTgVWV8kazn",
        "colab": {
          "base_uri": "https://localhost:8080/"
        },
        "outputId": "7365085c-4150-44f8-a0bb-bcb31a3fd9a6"
      },
      "source": [
        "!nvidia-smi"
      ],
      "execution_count": 3,
      "outputs": [
        {
          "output_type": "stream",
          "text": [
            "Fri Jul 23 12:49:26 2021       \n",
            "+-----------------------------------------------------------------------------+\n",
            "| NVIDIA-SMI 470.42.01    Driver Version: 460.32.03    CUDA Version: 11.2     |\n",
            "|-------------------------------+----------------------+----------------------+\n",
            "| GPU  Name        Persistence-M| Bus-Id        Disp.A | Volatile Uncorr. ECC |\n",
            "| Fan  Temp  Perf  Pwr:Usage/Cap|         Memory-Usage | GPU-Util  Compute M. |\n",
            "|                               |                      |               MIG M. |\n",
            "|===============================+======================+======================|\n",
            "|   0  Tesla T4            Off  | 00000000:00:04.0 Off |                    0 |\n",
            "| N/A   36C    P8     9W /  70W |      0MiB / 15109MiB |      0%      Default |\n",
            "|                               |                      |                  N/A |\n",
            "+-------------------------------+----------------------+----------------------+\n",
            "                                                                               \n",
            "+-----------------------------------------------------------------------------+\n",
            "| Processes:                                                                  |\n",
            "|  GPU   GI   CI        PID   Type   Process name                  GPU Memory |\n",
            "|        ID   ID                                                   Usage      |\n",
            "|=============================================================================|\n",
            "|  No running processes found                                                 |\n",
            "+-----------------------------------------------------------------------------+\n"
          ],
          "name": "stdout"
        }
      ]
    },
    {
      "cell_type": "code",
      "metadata": {
        "colab": {
          "base_uri": "https://localhost:8080/"
        },
        "id": "D6sn-SvmqXQL",
        "outputId": "463f1d45-abc9-4e7b-d681-49b6659456a8"
      },
      "source": [
        "from google.colab import drive\n",
        "drive.mount('/gdrive')\n",
        "%cd /gdrive/MyDrive/experiment2/"
      ],
      "execution_count": 4,
      "outputs": [
        {
          "output_type": "stream",
          "text": [
            "Mounted at /gdrive\n",
            "/gdrive/MyDrive/experiment2\n"
          ],
          "name": "stdout"
        }
      ]
    },
    {
      "cell_type": "code",
      "metadata": {
        "id": "nVloTLEKqeDZ",
        "colab": {
          "base_uri": "https://localhost:8080/"
        },
        "outputId": "2be68447-a06b-4f1c-8f39-f4ba685ad388"
      },
      "source": [
        "!pip install -q yolov4==2.1.0"
      ],
      "execution_count": 5,
      "outputs": [
        {
          "output_type": "stream",
          "text": [
            "  Building wheel for yolov4 (setup.py) ... \u001b[?25l\u001b[?25hdone\n"
          ],
          "name": "stdout"
        }
      ]
    },
    {
      "cell_type": "code",
      "metadata": {
        "id": "FSB4WtvsqgD0",
        "colab": {
          "base_uri": "https://localhost:8080/"
        },
        "outputId": "4e818348-4d6c-489f-b968-e922c6edd778"
      },
      "source": [
        "from os.path import join, exists\n",
        "from os import listdir\n",
        "import json\n",
        "\n",
        "\n",
        "from global_vars import *\n",
        "from helpers import load_image_from_link, load_image_from_path\n",
        "from model import load_normal_models, load_2ndlvl_models\n",
        "from inference_helpers import *\n",
        "\n",
        "from primary_image_detector import *"
      ],
      "execution_count": 6,
      "outputs": [
        {
          "output_type": "stream",
          "text": [
            "Call tf.config.experimental.set_memory_growth(GPU0, True)\n"
          ],
          "name": "stdout"
        }
      ]
    },
    {
      "cell_type": "markdown",
      "metadata": {
        "id": "ko5xp5XDxdyc"
      },
      "source": [
        "## Load Models"
      ]
    },
    {
      "cell_type": "code",
      "metadata": {
        "id": "J7eSBLLpNmw9"
      },
      "source": [
        "posenet_model = load_posenet_model()"
      ],
      "execution_count": 7,
      "outputs": []
    },
    {
      "cell_type": "code",
      "metadata": {
        "id": "DrUg3I4VqvxN"
      },
      "source": [
        "topwear_models=load_normal_models(topwear)\n",
        "\n",
        "outerwear_models=load_normal_models(outerwear)\n",
        "outerwear_models[\"sub\"][\"edge_type\"]=topwear_models[\"sub\"][\"edge_type\"]\n",
        "\n",
        "bottomwear_models=load_normal_models(bottomwear)\n",
        "\n",
        "footwear_models=load_normal_models(footwear)\n",
        "\n",
        "overall_models=load_normal_models(overall)\n",
        "\n",
        "accessories_models=load_normal_models(accessories)"
      ],
      "execution_count": 8,
      "outputs": []
    },
    {
      "cell_type": "code",
      "metadata": {
        "id": "MTGYgu-YjEuX"
      },
      "source": [
        "topwear_nonhuman = \"topwear_nonhuman\"\n",
        "topwear_nonhuman_model = load_normal_models(topwear_nonhuman)\n",
        "\n",
        "bottomwear_nonhuman = \"bottomwear_nonhuman\"\n",
        "bottomwear_nonhuman_model = load_normal_models(bottomwear_nonhuman)"
      ],
      "execution_count": 9,
      "outputs": []
    },
    {
      "cell_type": "code",
      "metadata": {
        "id": "XB0KNoeBaq7P"
      },
      "source": [
        "img = load_image_from_link(\"https://i.ebayimg.com/images/g/xRYAAOSw~oFXGnNz/s-l400.jpg\")\n",
        "from primary_image_detector import predict_pose\n",
        "def hasHuman(img, posenet_model):\n",
        "    lst, image, disp = predict_pose(img, posenet_model)\n",
        "    lst = sorted(lst, key = lambda x:x[2], reverse=True)\n",
        "    if (lst[0][2]>0.5) and (lst[1][2]>0.5):\n",
        "        # print(lst)\n",
        "        return True\n",
        "    else:\n",
        "        # print(lst)\n",
        "        return False\n",
        "# hasHuman(img, posenet_model)"
      ],
      "execution_count": 10,
      "outputs": []
    },
    {
      "cell_type": "code",
      "metadata": {
        "id": "NxoZFTCuGG4P"
      },
      "source": [
        "topwear_main_model_conf = 0.12\n",
        "topwear_nonhuman_main_model_conf = 0.12\n",
        "bottomwear_main_model_conf = 0.65\n",
        "bottomwear_nonhuman_main_model_conf = 0.65\n",
        "accessories_main_model_conf = 0.5\n",
        "footwear_main_model_conf = 0.62"
      ],
      "execution_count": 11,
      "outputs": []
    },
    {
      "cell_type": "code",
      "metadata": {
        "id": "2pm7HxjmrZr9"
      },
      "source": [
        "def predict(url, found = None):\n",
        "\n",
        "    # Image downloading and finding primary image if required\n",
        "    if type(url) == list:\n",
        "        img_list = []\n",
        "        for i in url:\n",
        "            if type(i)!=str:\n",
        "                raise Exception(\"Urls list should contain only string type elements.\")\n",
        "            img_list.append(load_image_from_link(i))\n",
        "        ind = find_primary(img_list, posenet_model)\n",
        "        image_link = url[ind]\n",
        "        img = img_list[ind]\n",
        "    elif type(url) == str:\n",
        "        image_link = url\n",
        "        img = load_image_from_link(url)\n",
        "    else:\n",
        "        raise Exception(\"Url parameter should be string type or a list of string type.\")\n",
        "    #check if it has human or not\n",
        "    # hash = hasHuman(img, posenet_model)\n",
        "    # print(hash)\n",
        "    hash = True\n",
        "\n",
        "    # initialising all the variables\n",
        "    topwear_detection = []\n",
        "    bottomwear_detection = []\n",
        "    accessories_sub_detection = {}\n",
        "    footwear_detection = []\n",
        "\n",
        "    bottomwear_sub_detection={}\n",
        "    topwear_sub_detection={}\n",
        "    overall_sub_detection={}\n",
        "    outerwear_sub_detection={}\n",
        "\n",
        "    # resolving the already known thing\n",
        "    if hash:\n",
        "        if found == None:\n",
        "            topwear_detection, topwear_color = topwear_nonhuman_model[\"main\"].predict(img, 0.1, topwear_nonhuman_main_model_conf)\n",
        "            bottomwear_detection, bottomwear_color = bottomwear_nonhuman_model[\"main\"].predict(img, 0.1, bottomwear_nonhuman_main_model_conf)\n",
        "            accessories_sub_detection = accessories_prediction(img, accessories_models['main'], ren, 0.1, accessories_main_model_conf)\n",
        "            footwear_detection, footwear_color = footwear_models[\"main\"].predict(img, 0.1, footwear_main_model_conf)\n",
        "        elif found in topwear_models[\"main\"].class_dict.values():\n",
        "            topwear_detection = [[found, 1]]\n",
        "        elif found == topwear:\n",
        "            topwear_detection, topwear_color = topwear_nonhuman_model[\"main\"].predict(img, 0.1, topwear_nonhuman_main_model_conf)\n",
        "        elif found in bottomwear_models[\"main\"].class_dict.values():\n",
        "            bottomwear_detection = [[found, 1]]\n",
        "        elif found == bottomwear:\n",
        "            bottomwear_detection, bottomwear_color = bottomwear_nonhuman_model[\"main\"].predict(img, 0.1, bottomwear_nonhuman_main_model_conf)\n",
        "        elif (found == accessories) or (found in accessories_models[\"main\"].class_dict.values()):\n",
        "            accessories_sub_detection = accessories_prediction(img, accessories_models['main'], ren, 0.1, accessories_main_model_conf)\n",
        "        elif (found == footwear) or (found in footwear_models[\"main\"].class_dict.values()):\n",
        "            footwear_detection, footwear_color = footwear_models[\"main\"].predict(img, 0.1, footwear_main_model_conf)\n",
        "        else:\n",
        "            raise Exception(found+\" not found in any model.\")\n",
        "    else:\n",
        "        if found == None:\n",
        "            topwear_detection, topwear_color = topwear_models[\"main\"].predict(img, 0.1, topwear_main_model_conf)\n",
        "            bottomwear_detection, bottomwear_color = bottomwear_models[\"main\"].predict(img, 0.1, bottomwear_main_model_conf)\n",
        "            accessories_sub_detection = accessories_prediction(img, accessories_models['main'], ren, 0.1, accessories_main_model_conf)\n",
        "            footwear_detection, footwear_color = footwear_models[\"main\"].predict(img, 0.1, footwear_main_model_conf)\n",
        "        elif found in topwear_models[\"main\"].class_dict.values():\n",
        "            topwear_detection = [[found, 1]]\n",
        "        elif found == topwear:\n",
        "            topwear_detection, topwear_color = topwear_models[\"main\"].predict(img, 0.1, topwear_main_model_conf)\n",
        "        elif found in bottomwear_models[\"main\"].class_dict.values():\n",
        "            bottomwear_detection = [[found, 1]]\n",
        "        elif found == bottomwear:\n",
        "            bottomwear_detection, bottomwear_color = bottomwear_models[\"main\"].predict(img, 0.1, bottomwear_main_model_conf)\n",
        "        elif (found == accessories) or (found in accessories_models[\"main\"].class_dict.values()):\n",
        "            accessories_sub_detection = accessories_prediction(img, accessories_models['main'], ren, 0.1, accessories_main_model_conf)\n",
        "        elif (found == footwear) or (found in footwear_models[\"main\"].class_dict.values()):\n",
        "            footwear_detection, footwear_color = footwear_models[\"main\"].predict(img, 0.1, footwear_main_model_conf)\n",
        "        else:\n",
        "            raise Exception(found+\" not found in any model.\")\n",
        "\n",
        "    # making further predictions\n",
        "    if len(topwear_detection)!=0:\n",
        "        topwear_detection = [topwear_detection[0]]\n",
        "        if topwear_detection[0][0] in ['bodysuit', 'jumpsuit', 'kaftan', 'dress']:\n",
        "            if (len(bottomwear_detection)==0) or (topwear_detection[0][1]>bottomwear_detection[0][1]):\n",
        "                overall_sub_detection = sub_model_prediction(img, topwear_detection, overall_models['sub'], 0.1, 0.1)\n",
        "            else:topwear_detection = []\n",
        "        elif topwear_detection[0][0] in ['blazers', 'cardigan', 'coat', 'jacket']:\n",
        "            outerwear_sub_detection = sub_model_prediction(img, topwear_detection, outerwear_models['sub'], 0.1, 0.1)\n",
        "        else:\n",
        "            topwear_sub_detection = sub_model_prediction(img, topwear_detection, topwear_models['sub'], 0.1, 0.1)\n",
        "\n",
        "    bottomwear_sub_detection = sub_model_prediction(img, bottomwear_detection, bottomwear_models['sub'], 0.1, 0.1)\n",
        "\n",
        "    footwear_sub_detection = sub_model_prediction(img, footwear_detection, footwear_models['sub'], 0.1, 0.1)\n",
        "    if len(footwear_detection)!=0:\n",
        "        footwear_sub_detection['color']=transform_color(footwear_color)\n",
        "\n",
        "    # transforming results\n",
        "    trans_result = transform_result({\n",
        "                    topwear:topwear_sub_detection,\n",
        "                    bottomwear:bottomwear_sub_detection,\n",
        "                    overall:overall_sub_detection,\n",
        "                    outerwear:outerwear_sub_detection,\n",
        "                    footwear:footwear_sub_detection,\n",
        "                    accessories:accessories_sub_detection\n",
        "                },ren)\n",
        "    trans_result[\"found_primary\"] = image_link\n",
        "    return trans_result"
      ],
      "execution_count": 12,
      "outputs": []
    },
    {
      "cell_type": "code",
      "metadata": {
        "id": "BK47IHAQjooB"
      },
      "source": [
        "f=open(\"rename.json\", \"r\")\n",
        "ren = json.load(f)\n",
        "f.close()"
      ],
      "execution_count": 13,
      "outputs": []
    },
    {
      "cell_type": "markdown",
      "metadata": {
        "id": "nb-RDUzWKpOq"
      },
      "source": [
        "# Updated Way to Run DB Images"
      ]
    },
    {
      "cell_type": "code",
      "metadata": {
        "id": "8FSPoLlIin5-"
      },
      "source": [
        "from PIL.Image import fromarray as fa\n",
        "from time import sleep\n",
        "from IPython.display import clear_output\n",
        "import json\n",
        "import urllib.error\n",
        "\n",
        "topwearClasses = ['shirts', 'sweatshirt', 'tops', 'poncho', 'brasserie']\n",
        "outerwearClasses = ['blazers', 'coat', 'jacket', 'cardigan']\n",
        "overallClasses = ['bodysuit', 'dress', 'jumpsuit', 'kaftan']\n",
        "\n",
        "f = open(\"/gdrive/MyDrive/experiment2/grroomTagging/db_image_data/filtered/split/raw_file_20.txt\")\n",
        "d = f.read()\n",
        "f.close()\n",
        "d = json.loads(d)"
      ],
      "execution_count": 14,
      "outputs": []
    },
    {
      "cell_type": "code",
      "metadata": {
        "id": "SZ2tgXFnbx6L"
      },
      "source": [
        "d=d[70: ]"
      ],
      "execution_count": 15,
      "outputs": []
    },
    {
      "cell_type": "code",
      "metadata": {
        "id": "wYPmglj1hcrq"
      },
      "source": [
        "#updated = []\n",
        "first_how_many = 20000\n",
        "data = d[len(updated):first_how_many]\n",
        "count = len(updated)\n",
        "for i in data[:]:\n",
        "    print(count)\n",
        "    url = i[\"image\"]\n",
        "    id = i[\"_id\"]\n",
        "    img = load_image_from_link(url)\n",
        "    width, height, _ = img.shape\n",
        "    display(fa(img).resize((int(400*height/width), 400)))\n",
        "    cls = list(topwear_models['main'].class_dict.values())\n",
        "    cls.extend(list(bottomwear_models['main'].class_dict.values()))\n",
        "    cls.extend(list(footwear_models['main'].class_dict.values()))\n",
        "    for cnt in range(0, len(cls), 4):\n",
        "        try:\n",
        "            s = str(cnt)+ \".\"+\" \"+cls[cnt]\n",
        "            print(s.ljust(25, \" \"), end = \"\")\n",
        "            s = str(cnt+1)+ \".\"+\" \"+cls[cnt+1]\n",
        "            print(s.ljust(25, \" \"), end = \"\")\n",
        "            s = str(cnt+2)+ \".\"+\" \"+cls[cnt+2]\n",
        "            print(s.ljust(25, \" \"), end = \"\")\n",
        "            s = str(cnt+3)+ \".\"+\" \"+cls[cnt+3]\n",
        "            print(s.ljust(25, \" \"))\n",
        "        except:\n",
        "            break\n",
        "    sleep(0.7)\n",
        "    inp = input(\"choose what all are there in the image?(For example, 1,13,6,7): -\\n\")\n",
        "    inp = list(map(int, inp.split(',')))\n",
        "    inp = list(set([cls[k] for k in inp]))\n",
        "    clear_output()\n",
        "\n",
        "    result = {}\n",
        "    topwearPresent = [False,None]\n",
        "    overallPresent = [False,None]\n",
        "    outerwearPresent = [False,None]\n",
        "    bottomwearPresent = [False,None]\n",
        "    footwearPresent = [False,None]\n",
        "    for k in inp:\n",
        "        if k in outerwearClasses:outerwearPresent = [True, k]\n",
        "        if k in topwearClasses:topwearPresent = [True, k]\n",
        "        if k in overallClasses:overallPresent = [True, k]\n",
        "        if k in bottomwear_models[\"main\"].class_dict.values():bottomwearPresent = [True, k]\n",
        "        if k in footwear_models[\"main\"].class_dict.values():footwearPresent = [True,k]\n",
        "    \n",
        "    if outerwearPresent[0]:\n",
        "        tmp = predict(url, outerwearPresent[1])\n",
        "        result[outerwear] = tmp[outerwear]\n",
        "        \n",
        "        if topwearPresent[0]:\n",
        "            result[topwear] = tmp[topwear]\n",
        "            result[topwear][\"type\"] = [ren[topwear][\"Type\"]['prediction'][topwearPresent[1]]]\n",
        "        elif overallPresent[0]:\n",
        "            result['overalls'] = tmp['overalls']\n",
        "            result[\"overalls\"][\"type\"] = [ren['overall'][\"Type\"]['prediction'][overallPresent[1]]]\n",
        "        else:result[topwear] = {}\n",
        "    elif topwearPresent[0]:\n",
        "        tmp = predict(url, topwearPresent[1])\n",
        "        result[topwear] = tmp[topwear]\n",
        "    elif overallPresent[0]:\n",
        "        tmp = predict(url, overallPresent[1])\n",
        "        result[\"overalls\"] = tmp[\"overalls\"]\n",
        "    if bottomwearPresent[0]:\n",
        "        tmp = predict(url, bottomwearPresent[1])\n",
        "        result[bottomwear] = tmp[bottomwear]\n",
        "    if footwearPresent[0]:\n",
        "        tmp = predict(url, footwearPresent[1])\n",
        "        if \"footwearType\" in tmp[footwear].keys():\n",
        "            del tmp[footwear][\"footwearType\"]\n",
        "        result[footwear] = tmp[footwear]\n",
        "        # print(tmp[footwear])\n",
        "        if result[footwear] == {}:\n",
        "            result[footwear]={\"type\":[ren[footwear][\"Type\"]['prediction'][footwearPresent[1]]]}\n",
        "        else:\n",
        "            result[footwear][\"type\"]=[ren[footwear][\"Type\"]['prediction'][footwearPresent[1]]]\n",
        "    result[\"_id\"] = id\n",
        "    result[\"image\"] = url\n",
        "    updated.append(result)\n",
        "    count+=1\n",
        "    \n",
        "    for j in result.keys():\n",
        "        print(j)\n",
        "        try:\n",
        "            for k in result[j].keys():\n",
        "                print(\" \"*5,k.ljust(20), result[j][k])\n",
        "        except:\n",
        "            print(\" \"*5,result[j])\n",
        "    if input(\"Hit enter to continue:\\n\") == 'n':\n",
        "        clear_output()\n",
        "        continue\n",
        "    clear_output()\n"
      ],
      "execution_count": 20,
      "outputs": []
    },
    {
      "cell_type": "markdown",
      "metadata": {
        "id": "VOPLYTcnPFaE"
      },
      "source": [
        "#Saving the data"
      ]
    },
    {
      "cell_type": "code",
      "metadata": {
        "id": "W6wwB3qXmYWQ"
      },
      "source": [
        "f = open(\"/gdrive/MyDrive/experiment2/grroomTagging/db_image_data/filtered/processed/processed_file_20_part_2.txt\", \"w\") #change\n",
        "f.write(json.dumps(updated))\n",
        "f.close()"
      ],
      "execution_count": 21,
      "outputs": []
    }
  ]
}